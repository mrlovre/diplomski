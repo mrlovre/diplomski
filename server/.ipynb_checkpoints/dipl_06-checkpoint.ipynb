{
 "cells": [
  {
   "cell_type": "markdown",
   "metadata": {},
   "source": [
    "# Diplomski rad 06\n",
    "28\\. 6. 2017."
   ]
  },
  {
   "cell_type": "code",
   "execution_count": 4,
   "metadata": {
    "collapsed": true
   },
   "outputs": [],
   "source": [
    "%matplotlib inline\n",
    "import numpy as np\n",
    "import matplotlib.pyplot as plt\n",
    "import matplotlib\n",
    "import graphviz as gv\n",
    "\n",
    "import networkx as nx\n",
    "import pydot\n",
    "import os\n",
    "from utility.log_progress import log_progress\n",
    "from importlib import reload\n",
    "import utility.functions\n",
    "reload(utility.functions)\n",
    "from utility.functions import *\n",
    "from collections import Counter\n",
    "\n",
    "matplotlib.rcParams['figure.figsize'] = (12, 8)"
   ]
  },
  {
   "cell_type": "markdown",
   "metadata": {},
   "source": [
    "## S&P full"
   ]
  },
  {
   "cell_type": "code",
   "execution_count": 164,
   "metadata": {
    "collapsed": true
   },
   "outputs": [],
   "source": [
    "spfull = np.load('data/sp_stock_prices.npy')\n",
    "spstocks = np.load('data/sp_stocks.npy')\n",
    "spdates = np.load('data/sp_price_dates.npy')\n",
    "spchangedates = np.load('data/sp_change_dates.npy')\n",
    "spchangelist = np.load('data/sp_change_list.npy')\n",
    "\n",
    "days, N = spfull.shape\n",
    "P = N * (N - 1) // 2\n",
    "spfull_log = np.log(spfull)\n",
    "\n",
    "T = 60"
   ]
  },
  {
   "cell_type": "code",
   "execution_count": 194,
   "metadata": {},
   "outputs": [
    {
     "name": "stdout",
     "output_type": "stream",
     "text": [
      "[  60  119  189  254  314  384  449  514  579  644  709  774  839  904  969\n",
      " 1034 1099 1164 1229 1294 1359 1424 1489 1554 1619 1689 1754 1819 1884 1949\n",
      " 2014 2079 2144 2209 2274 2339 2404 2469 2534 2599 2664 2729 2794 2859 2924\n",
      " 2989 3059 3124 3184 3254 3319 3384 3449 3514 3579 3644 3709 3774 3839 3904\n",
      " 3969 4034 4099 4164 4229 4294 4359 4424 4489 4554 4624 4689 4753 4819 4884\n",
      " 4949 5014 5079 5144 5209 5274 5339 5404 5469 5534 5599 5664 5729 5794 5859\n",
      " 5929 5994 6054 6124 6189 6254 6319 6384 6449 6514 6579 6644 6709 6774]\n"
     ]
    }
   ],
   "source": [
    "spchangesets = [set(s) for s in [[p for p in r if p != ''] for r in spchangelist.T]]\n",
    "split_points, = np.where(np.vectorize(lambda s: s in spchangedates)(spdates))\n",
    "# split_points je za jedan kraći od changesets-a (na kraju)\n",
    "# prvi split point je 54, a period T je 60, da bude lakše stavit ćemo da je prvi split point 60\n",
    "if split_points[0] < T:\n",
    "    split_points[0] = T\n",
    "\n",
    "print(split_points)"
   ]
  },
  {
   "cell_type": "code",
   "execution_count": 219,
   "metadata": {},
   "outputs": [],
   "source": [
    "for i in range(len(split_points)):\n",
    "    stock_set = spchangesets[i]\n",
    "    start_date = spdates[i]\n",
    "    end_date = spdates[i + 1] if i < len(split_points) else spdates[-2]\n",
    "    start_point = split_points[i]\n",
    "    end_point = split_points[i + 1] if i < len(split_points) - 1 else len(spdates) - 1\n",
    "    stock_prices = spfull_log[start_point:end_point, np.where(np.vectorize(lambda s: s in stock_set)(spstocks))[0]]\n",
    "    "
   ]
  },
  {
   "cell_type": "code",
   "execution_count": 225,
   "metadata": {},
   "outputs": [
    {
     "data": {
      "text/plain": [
       "1346966"
      ]
     },
     "execution_count": 225,
     "metadata": {},
     "output_type": "execute_result"
    }
   ],
   "source": [
    "np.sum(np.isnan(spfull_log))"
   ]
  },
  {
   "cell_type": "code",
   "execution_count": null,
   "metadata": {
    "collapsed": true
   },
   "outputs": [],
   "source": []
  }
 ],
 "metadata": {
  "kernelspec": {
   "display_name": "Python 3",
   "language": "python",
   "name": "python3"
  },
  "language_info": {
   "codemirror_mode": {
    "name": "ipython",
    "version": 3
   },
   "file_extension": ".py",
   "mimetype": "text/x-python",
   "name": "python",
   "nbconvert_exporter": "python",
   "pygments_lexer": "ipython3",
   "version": "3.5.3"
  }
 },
 "nbformat": 4,
 "nbformat_minor": 2
}
