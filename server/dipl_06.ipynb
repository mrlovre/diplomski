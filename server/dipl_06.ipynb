{
 "cells": [
  {
   "cell_type": "markdown",
   "metadata": {},
   "source": [
    "# Diplomski rad 06\n",
    "28\\. 6. 2017."
   ]
  },
  {
   "cell_type": "code",
   "execution_count": 4,
   "metadata": {
    "collapsed": true
   },
   "outputs": [],
   "source": [
    "%matplotlib inline\n",
    "import numpy as np\n",
    "import matplotlib.pyplot as plt\n",
    "import matplotlib\n",
    "import graphviz as gv\n",
    "\n",
    "import networkx as nx\n",
    "import pydot\n",
    "import os\n",
    "from utility.log_progress import log_progress\n",
    "from importlib import reload\n",
    "import utility.functions\n",
    "reload(utility.functions)\n",
    "from utility.functions import *\n",
    "from collections import Counter\n",
    "\n",
    "matplotlib.rcParams['figure.figsize'] = (12, 8)"
   ]
  },
  {
   "cell_type": "markdown",
   "metadata": {},
   "source": [
    "## S&P full"
   ]
  },
  {
   "cell_type": "code",
   "execution_count": 164,
   "metadata": {
    "collapsed": true
   },
   "outputs": [],
   "source": [
    "spfull = np.load('data/sp_stock_prices.npy')\n",
    "spstocks = np.load('data/sp_stocks.npy')\n",
    "spdates = np.load('data/sp_price_dates.npy')\n",
    "spchangedates = np.load('data/sp_change_dates.npy')\n",
    "spchangelist = np.load('data/sp_change_list.npy')\n",
    "\n",
    "days, N = spfull.shape\n",
    "P = N * (N - 1) // 2\n",
    "spfull_log = np.log(spfull)\n",
    "\n",
    "T = 60"
   ]
  },
  {
   "cell_type": "code",
   "execution_count": 194,
   "metadata": {},
   "outputs": [
    {
     "name": "stdout",
     "output_type": "stream",
     "text": [
      "[  60  119  189  254  314  384  449  514  579  644  709  774  839  904  969\n",
      " 1034 1099 1164 1229 1294 1359 1424 1489 1554 1619 1689 1754 1819 1884 1949\n",
      " 2014 2079 2144 2209 2274 2339 2404 2469 2534 2599 2664 2729 2794 2859 2924\n",
      " 2989 3059 3124 3184 3254 3319 3384 3449 3514 3579 3644 3709 3774 3839 3904\n",
      " 3969 4034 4099 4164 4229 4294 4359 4424 4489 4554 4624 4689 4753 4819 4884\n",
      " 4949 5014 5079 5144 5209 5274 5339 5404 5469 5534 5599 5664 5729 5794 5859\n",
      " 5929 5994 6054 6124 6189 6254 6319 6384 6449 6514 6579 6644 6709 6774]\n"
     ]
    }
   ],
   "source": [
    "spchangesets = [set(s) for s in [[p for p in r if p != ''] for r in spchangelist.T]]\n",
    "split_points, = np.where(np.vectorize(lambda s: s in spchangedates)(spdates))\n",
    "# split_points je za jedan kraći od changesets-a (na kraju)\n",
    "# prvi split point je 54, a period T je 60, da bude lakše stavit ćemo da je prvi split point 60\n",
    "if split_points[0] < T:\n",
    "    split_points[0] = T\n",
    "\n",
    "print(split_points)"
   ]
  },
  {
   "cell_type": "code",
   "execution_count": 219,
   "metadata": {},
   "outputs": [],
   "source": [
    "for i in range(len(split_points)):\n",
    "    stock_set = spchangesets[i]\n",
    "    start_date = spdates[i]\n",
    "    end_date = spdates[i + 1] if i < len(split_points) else spdates[-2]\n",
    "    start_point = split_points[i]\n",
    "    end_point = split_points[i + 1] if i < len(split_points) - 1 else len(spdates) - 1\n",
    "    stock_prices = spfull_log[start_point:end_point, np.where(np.vectorize(lambda s: s in stock_set)(spstocks))[0]]\n",
    "    "
   ]
  },
  {
   "cell_type": "code",
   "execution_count": 225,
   "metadata": {},
   "outputs": [
    {
     "data": {
      "text/plain": [
       "1346966"
      ]
     },
     "execution_count": 225,
     "metadata": {},
     "output_type": "execute_result"
    }
   ],
   "source": [
    "np.sum(np.isnan(spfull_log))"
   ]
  },
  {
   "cell_type": "markdown",
   "metadata": {
    "collapsed": true
   },
   "source": [
    "## SPDR"
   ]
  },
  {
   "cell_type": "code",
   "execution_count": 230,
   "metadata": {
    "collapsed": true
   },
   "outputs": [],
   "source": [
    "spdr = np.load('data/spdr_prices.npy')\n",
    "days, N = spdr.shape\n",
    "P = N * (N - 1) // 2\n",
    "spdr_log = np.log(spdr)\n",
    "spdr_log_diffs = calculate_pairwise_diffs(spdr_log)"
   ]
  },
  {
   "cell_type": "code",
   "execution_count": 264,
   "metadata": {
    "collapsed": true
   },
   "outputs": [],
   "source": [
    "T = 60\n",
    "p = None\n",
    "d = 3.75\n",
    "method = 'thresh-devs'\n",
    "spdr_log_diff_means, spdr_log_diff_vars = rolling_mean_variance(spdr_log_diffs, T)\n",
    "ts, profits, pairs, weights = statistical_arbitrage(spdr_log_diffs, spdr_log_diff_means, spdr_log_diff_vars, p=p, d=d,\n",
    "                                                    method=method, return_pairs=True, return_weights=True)"
   ]
  },
  {
   "cell_type": "code",
   "execution_count": 265,
   "metadata": {},
   "outputs": [
    {
     "data": {
      "application/vnd.jupyter.widget-view+json": {
       "model_id": "79a3bc64a3804389b324ad4c19ec1e39"
      }
     },
     "metadata": {},
     "output_type": "display_data"
    }
   ],
   "source": [
    "ppairs = partition_as(ts, pairs, weights)\n",
    "profit = []\n",
    "shares = []\n",
    "ts_plot = []\n",
    "exp_tops = []\n",
    "exp_bottoms = []\n",
    "a = 0.5\n",
    "b = 2\n",
    "for t, ppair, weight in log_progress(list(ppairs)):\n",
    "    preferences, c = calculate_preference_flow(ppair, weights=weight, scale=False, return_consistency=True)\n",
    "    c = a + (1 - a) * c ** b\n",
    "    # c = 0.5 + np.sqrt(c) / 2\n",
    "    # c = 0.8 + c * 0.2\n",
    "    m = np.max(np.abs(list(preferences.values())))\n",
    "    # n = np.min(list(preferences.values()))\n",
    "    tops = np.array([k for k, v in preferences.items() if v >= m * c])\n",
    "    # tops = np.array([])\n",
    "    bottoms = np.array([k for k, v in preferences.items() if -m * c >= v])\n",
    "    p = []\n",
    "    if len(tops) != 0:\n",
    "        ttops = np.array([t] * len(tops))\n",
    "        p.extend(trade_singles(spdr_log, ttops, tops, inv=False))\n",
    "        shares.extend(tops)\n",
    "        ts_plot.extend(ttops)\n",
    "    if len(bottoms) != 0:\n",
    "        tbottoms = np.array([t] * len(bottoms))\n",
    "        p.extend(trade_singles(spdr_log, tbottoms, bottoms, inv=True))\n",
    "        shares.extend(bottoms)\n",
    "        ts_plot.extend(tbottoms)\n",
    "    if len(tops) == 0:\n",
    "        ts_plot.append(t)\n",
    "        profit.append(0)\n",
    "    exp_tops += [set(tops)]\n",
    "    exp_bottoms += [set(bottoms)]\n",
    "    profit.extend([p_ / len(p) for p_ in p])\n",
    "    \n",
    "shares = np.array(shares)\n",
    "ts_plot = np.array(ts_plot)\n",
    "profit = np.array(profit)"
   ]
  },
  {
   "cell_type": "code",
   "execution_count": 266,
   "metadata": {},
   "outputs": [
    {
     "name": "stdout",
     "output_type": "stream",
     "text": [
      "T: 60\n",
      "d: 3.75\n",
      "a: 0.5, b: 2\n",
      "Avg (year): 0.54878\n",
      "Stddev (year): 0.37273\n",
      "Sharpe ratio (year): 1.47234\n",
      "Profit:\n",
      "  positive only: 1.23769\n",
      "  negative only: -0.71508\n",
      "  total: 0.52261\n",
      "  positive to negative ratio: 1.73085\n",
      "Average accuracy: 0.54717\n",
      "Average turnovers (range [0, 2]):\n",
      "  top: 1.22414\n",
      "  bottom: 1.10345\n",
      "  total: 1.16379\n",
      "Total turnovers:\n",
      "  top: 142.00000\n",
      "  bottom: 128.00000\n",
      "  total: 270.00000\n",
      "Actual profit, if transaction cost were 0.1%: 0.25261\n"
     ]
    },
    {
     "data": {
      "image/png": "[encoded data removed]",
      "text/plain": [
       "<matplotlib.figure.Figure at 0x14f8f89bd68>"
      ]
     },
     "metadata": {},
     "output_type": "display_data"
    }
   ],
   "source": [
    "turnover_top = turnover_ratio(exp_tops)\n",
    "turnover_bottom = turnover_ratio(exp_bottoms)\n",
    "\n",
    "ts1, profit1 = join_ts_profit(ts_plot, profit)\n",
    "\n",
    "plt.figure()\n",
    "plt.plot(ts1, np.cumsum(profit1))\n",
    "plt.plot(ts1, np.cumsum(profit1 - np.sum(np.vstack([turnover_top, turnover_bottom]), axis=0) * 1e-3))\n",
    "plt.legend(['profit', 'transaction cost included'], loc='best')\n",
    "plt.autoscale(enable=True, axis='x', tight=True)\n",
    "plt.grid()\n",
    "\n",
    "avg = np.mean(profit1 - np.sum(np.vstack([turnover_top, turnover_bottom]), axis=0) * 1e-3) * 252\n",
    "std = np.std(profit1 - np.sum(np.vstack([turnover_top, turnover_bottom]), axis=0) * 1e-3) * np.sqrt(252)\n",
    "sharpe = avg / std\n",
    "\n",
    "total_positive = np.sum(profit[np.greater(profit, 0.0)])\n",
    "total_negative = np.sum(profit[np.less_equal(profit, 0.0)])\n",
    "\n",
    "\n",
    "print('T: {}'.format(T))\n",
    "print('d: {}'.format(d))\n",
    "print('a: {}, b: {}'.format(a, b))\n",
    "print('Avg (year): {:.5f}'.format(avg))\n",
    "print('Stddev (year): {:.5f}'.format(std))\n",
    "print('Sharpe ratio (year): {:.5f}'.format(sharpe))\n",
    "print('Profit:')\n",
    "print('  positive only: {:.5f}'.format(total_positive))\n",
    "print('  negative only: {:.5f}'.format(total_negative))\n",
    "print('  total: {:.5f}'.format(total_positive + total_negative))\n",
    "print('  positive to negative ratio: {:.5f}'.format(-total_positive / total_negative))\n",
    "print('Average accuracy: {:.5f}'.format(np.count_nonzero(np.greater(profit, 0.0)) / len(profit)))\n",
    "print('Average turnovers (range [0, 2]):')\n",
    "print('  top: {:.5f}'.format(np.mean(turnover_top)))\n",
    "print('  bottom: {:.5f}'.format(np.mean(turnover_bottom)))\n",
    "print('  total: {:.5f}'.format(np.mean(np.hstack([turnover_bottom, turnover_top]))))\n",
    "print('Total turnovers:')\n",
    "print('  top: {:.5f}'.format(np.sum(turnover_top)))\n",
    "print('  bottom: {:.5f}'.format(np.sum(turnover_bottom)))\n",
    "print('  total: {:.5f}'.format(np.sum(np.hstack([turnover_bottom, turnover_top]))))\n",
    "print('Actual profit, if transaction cost were 0.1%: {:.5f}'.format(np.sum(profit) - np.sum(np.hstack([turnover_bottom, turnover_top])) * 1e-3))\n"
   ]
  },
  {
   "cell_type": "code",
   "execution_count": null,
   "metadata": {
    "collapsed": true
   },
   "outputs": [],
   "source": []
  }
 ],
 "metadata": {
  "kernelspec": {
   "display_name": "Python 3",
   "language": "python",
   "name": "python3"
  },
  "language_info": {
   "codemirror_mode": {
    "name": "ipython",
    "version": 3
   },
   "file_extension": ".py",
   "mimetype": "text/x-python",
   "name": "python",
   "nbconvert_exporter": "python",
   "pygments_lexer": "ipython3",
   "version": "3.5.3"
  }
 },
 "nbformat": 4,
 "nbformat_minor": 2
}
